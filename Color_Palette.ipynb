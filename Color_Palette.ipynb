{
 "cells": [
  {
   "cell_type": "code",
   "execution_count": 2,
   "metadata": {},
   "outputs": [],
   "source": [
    "import numpy as np\n",
    "import seaborn as sns\n",
    "import matplotlib.pyplot as plt\n",
    "%matplotlib inline\n",
    "sns.set(rc = {'figure.figsize':(6,9)})"
   ]
  },
  {
   "cell_type": "code",
   "execution_count": 3,
   "metadata": {},
   "outputs": [
    {
     "data": {
      "image/png": "[encoded data removed]",
      "text/plain": [
       "<Figure size 576x72 with 1 Axes>"
      ]
     },
     "metadata": {
      "needs_background": "light"
     },
     "output_type": "display_data"
    },
    {
     "data": {
      "image/png": "[encoded data removed]",
      "text/plain": [
       "<Figure size 936x72 with 1 Axes>"
      ]
     },
     "metadata": {
      "needs_background": "light"
     },
     "output_type": "display_data"
    }
   ],
   "source": [
    "'''Possible values are: Accent, Accent_r, Blues, Blues_r, \n",
    "BrBG, BrBG_r, BuGn, BuGn_r, BuPu, BuPu_r, CMRmap, \n",
    "CMRmap_r, Dark2, Dark2_r, GnBu, GnBu_r, Greens, Greens_r, \n",
    "Greys, Greys_r, OrRd, OrRd_r, Oranges, Oranges_r, PRGn, \n",
    "PRGn_r, Paired, Paired_r, Pastel1, Pastel1_r, Pastel2, \n",
    "Pastel2_r, PiYG, PiYG_r, PuBu, PuBuGn, PuBuGn_r, PuBu_r, \n",
    "PuOr, PuOr_r, PuRd, PuRd_r, Purples, Purples_r, RdBu, \n",
    "RdBu_r, RdGy, RdGy_r, RdPu, RdPu_r, RdYlBu, RdYlBu_r, \n",
    "RdYlGn, RdYlGn_r, Reds, Reds_r, Set1, Set1_r, Set2, \n",
    "Set2_r, Set3, Set3_r, Spectral, Spectral_r, Wistia, \n",
    "Wistia_r, YlGn, YlGnBu, YlGnBu_r, YlGn_r, YlOrBr, \n",
    "YlOrBr_r, YlOrRd, YlOrRd_r, afmhot, afmhot_r, autumn, \n",
    "autumn_r, binary, binary_r, bone, bone_r, brg, brg_r, \n",
    "bwr, bwr_r, cividis, cividis_r, cool, cool_r, coolwarm, \n",
    "coolwarm_r, copper, copper_r, cubehelix, cubehelix_r, \n",
    "flag, flag_r, gist_earth, gist_earth_r, gist_gray, \n",
    "gist_gray_r, gist_heat, gist_heat_r, gist_ncar, \n",
    "gist_ncar_r, gist_rainbow, gist_rainbow_r, gist_stern, \n",
    "gist_stern_r, gist_yarg, gist_yarg_r, gnuplot, gnuplot2, \n",
    "gnuplot2_r, gnuplot_r, gray, gray_r, hot, hot_r, hsv, \n",
    "hsv_r, icefire, icefire_r, inferno, inferno_r, jet, \n",
    "jet_r, magma, magma_r, mako, mako_r, nipy_spectral, \n",
    "nipy_spectral_r, ocean, ocean_r, pink, pink_r, plasma, \n",
    "plasma_r, prism, prism_r, rainbow, rainbow_r, rocket, \n",
    "rocket_r, seismic, seismic_r, spring, spring_r, summer, \n",
    "summer_r, tab10, tab10_r, tab20, tab20_r, tab20b, \n",
    "tab20b_r, tab20c, tab20c_r, terrain, terrain_r, viridis, \n",
    "viridis_r, vlag, vlag_r, winter, winter_r'''\n",
    "# name 和 name_r 只是次序为反而已\n",
    "current_palette =  sns.color_palette('nipy_spectral',8)\n",
    "sns.palplot(current_palette)\n",
    "#print(help(sns.palplot))\n",
    "sns.palplot(sns.color_palette('vlag',13))"
   ]
  },
  {
   "cell_type": "code",
   "execution_count": 37,
   "metadata": {},
   "outputs": [
    {
     "data": {
      "image/png": "[encoded data removed]",
      "text/plain": [
       "<Figure size 576x360 with 1 Axes>"
      ]
     },
     "metadata": {},
     "output_type": "display_data"
    }
   ],
   "source": [
    "plt.figure(figsize=(8,5))\n",
    "data = np.random.normal(size=(20,8)) + np.arange(8)/2\n",
    "sns.boxplot(data =data, palette = sns.color_palette('nipy_spectral',12))\n",
    "plt.show()"
   ]
  },
  {
   "cell_type": "code",
   "execution_count": 49,
   "metadata": {},
   "outputs": [
    {
     "data": {
      "image/png": "[encoded data removed]",
      "text/plain": [
       "<Figure size 576x72 with 1 Axes>"
      ]
     },
     "metadata": {},
     "output_type": "display_data"
    },
    {
     "data": {
      "image/png": "[encoded data removed]",
      "text/plain": [
       "<Figure size 576x72 with 1 Axes>"
      ]
     },
     "metadata": {},
     "output_type": "display_data"
    }
   ],
   "source": [
    "#hls_palette()函数来控制颜色的亮度的饱和度\n",
    "#l 亮度    lightness\n",
    "#s 饱和度  stauration\n",
    "sns.palplot(sns.hls_palette(8, l  = .7,s =0.8))\n",
    "sns.palplot(sns.color_palette(\"Paired\",8))"
   ]
  },
  {
   "cell_type": "code",
   "execution_count": 2,
   "metadata": {},
   "outputs": [
    {
     "data": {
      "image/png": "[encoded data removed]",
      "text/plain": [
       "<Figure size 720x72 with 1 Axes>"
      ]
     },
     "metadata": {
      "needs_background": "light"
     },
     "output_type": "display_data"
    },
    {
     "data": {
      "image/png": "[encoded data removed]",
      "text/plain": [
       "<Figure size 576x72 with 1 Axes>"
      ]
     },
     "metadata": {
      "needs_background": "light"
     },
     "output_type": "display_data"
    }
   ],
   "source": [
    "import numpy as np\n",
    "import seaborn as sns\n",
    "import matplotlib.pyplot as plt\n",
    "%matplotlib inline\n",
    "#分类色板\n",
    "current_palette =  sns.color_palette()\n",
    "sns.palplot(current_palette)\n",
    "#六种默认的颜色循环主题：deep, muted, pastel, bright, dark, colorblind\n",
    "\n",
    "#圆形画板\n",
    "#在一个圆形颜色空间中均匀的取出n个颜色来。最常用的是使用hls默认颜色空间，\n",
    "#这个RGB值的一个简单转换。\n",
    "sns.palplot(sns.color_palette('hls',8))"
   ]
  }
 ],
 "metadata": {
  "kernelspec": {
   "display_name": "Python 3",
   "language": "python",
   "name": "python3"
  },
  "language_info": {
   "codemirror_mode": {
    "name": "ipython",
    "version": 3
   },
   "file_extension": ".py",
   "mimetype": "text/x-python",
   "name": "python",
   "nbconvert_exporter": "python",
   "pygments_lexer": "ipython3",
   "version": "3.7.0"
  }
 },
 "nbformat": 4,
 "nbformat_minor": 2
}
