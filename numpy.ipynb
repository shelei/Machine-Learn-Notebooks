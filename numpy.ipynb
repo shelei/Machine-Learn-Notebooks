{
 "cells": [
  {
   "cell_type": "code",
   "execution_count": 8,
   "metadata": {},
   "outputs": [
    {
     "name": "stdout",
     "output_type": "stream",
     "text": [
      "hello ddd\n"
     ]
    }
   ],
   "source": [
    "print(\"hello ddd\")"
   ]
  },
  {
   "cell_type": "code",
   "execution_count": 24,
   "metadata": {},
   "outputs": [
    {
     "name": "stdout",
     "output_type": "stream",
     "text": [
      "<class 'numpy.ndarray'>\n",
      "(4, 3)\n",
      "[[ 5 10 15]\n",
      " [20 25 30]\n",
      " [35 40 45]\n",
      " [25 25 25]]\n",
      "int32\n"
     ]
    },
    {
     "data": {
      "text/plain": [
       "array([25, 25, 25, 25])"
      ]
     },
     "execution_count": 24,
     "metadata": {},
     "output_type": "execute_result"
    }
   ],
   "source": [
    "import numpy\n",
    "#print(help(numpy.genfromtxt))\n",
    "vertor = numpy.array([5,10,15,20])\n",
    "matrix = numpy.array([[5,10,15],[20,25,30],[35,40,45],[25,25,25]])\n",
    "print(type(vertor))\n",
    "print(matrix.shape)\n",
    "print(matrix)\n",
    "print(matrix.dtype)\n",
    "matrix[0,1]\n",
    "matrix[:,1]\n",
    "matrix[0:2,:]\n",
    "equal_to_ten = matrix == 25\n",
    "matrix[equal_to_ten]"
   ]
  },
  {
   "cell_type": "code",
   "execution_count": 7,
   "metadata": {},
   "outputs": [
    {
     "name": "stdout",
     "output_type": "stream",
     "text": [
      "Help on function sum in module numpy.core.fromnumeric:\n",
      "\n",
      "sum(a, axis=None, dtype=None, out=None, keepdims=<no value>, initial=<no value>)\n",
      "    Sum of array elements over a given axis.\n",
      "    \n",
      "    Parameters\n",
      "    ----------\n",
      "    a : array_like\n",
      "        Elements to sum.\n",
      "    axis : None or int or tuple of ints, optional\n",
      "        Axis or axes along which a sum is performed.  The default,\n",
      "        axis=None, will sum all of the elements of the input array.  If\n",
      "        axis is negative it counts from the last to the first axis.\n",
      "    \n",
      "        .. versionadded:: 1.7.0\n",
      "    \n",
      "        If axis is a tuple of ints, a sum is performed on all of the axes\n",
      "        specified in the tuple instead of a single axis or all the axes as\n",
      "        before.\n",
      "    dtype : dtype, optional\n",
      "        The type of the returned array and of the accumulator in which the\n",
      "        elements are summed.  The dtype of `a` is used by default unless `a`\n",
      "        has an integer dtype of less precision than the default platform\n",
      "        integer.  In that case, if `a` is signed then the platform integer\n",
      "        is used while if `a` is unsigned then an unsigned integer of the\n",
      "        same precision as the platform integer is used.\n",
      "    out : ndarray, optional\n",
      "        Alternative output array in which to place the result. It must have\n",
      "        the same shape as the expected output, but the type of the output\n",
      "        values will be cast if necessary.\n",
      "    keepdims : bool, optional\n",
      "        If this is set to True, the axes which are reduced are left\n",
      "        in the result as dimensions with size one. With this option,\n",
      "        the result will broadcast correctly against the input array.\n",
      "    \n",
      "        If the default value is passed, then `keepdims` will not be\n",
      "        passed through to the `sum` method of sub-classes of\n",
      "        `ndarray`, however any non-default value will be.  If the\n",
      "        sub-class' method does not implement `keepdims` any\n",
      "        exceptions will be raised.\n",
      "    initial : scalar, optional\n",
      "        Starting value for the sum. See `~numpy.ufunc.reduce` for details.\n",
      "    \n",
      "        .. versionadded:: 1.15.0\n",
      "    \n",
      "    Returns\n",
      "    -------\n",
      "    sum_along_axis : ndarray\n",
      "        An array with the same shape as `a`, with the specified\n",
      "        axis removed.   If `a` is a 0-d array, or if `axis` is None, a scalar\n",
      "        is returned.  If an output array is specified, a reference to\n",
      "        `out` is returned.\n",
      "    \n",
      "    See Also\n",
      "    --------\n",
      "    ndarray.sum : Equivalent method.\n",
      "    \n",
      "    cumsum : Cumulative sum of array elements.\n",
      "    \n",
      "    trapz : Integration of array values using the composite trapezoidal rule.\n",
      "    \n",
      "    mean, average\n",
      "    \n",
      "    Notes\n",
      "    -----\n",
      "    Arithmetic is modular when using integer types, and no error is\n",
      "    raised on overflow.\n",
      "    \n",
      "    The sum of an empty array is the neutral element 0:\n",
      "    \n",
      "    >>> np.sum([])\n",
      "    0.0\n",
      "    \n",
      "    Examples\n",
      "    --------\n",
      "    >>> np.sum([0.5, 1.5])\n",
      "    2.0\n",
      "    >>> np.sum([0.5, 0.7, 0.2, 1.5], dtype=np.int32)\n",
      "    1\n",
      "    >>> np.sum([[0, 1], [0, 5]])\n",
      "    6\n",
      "    >>> np.sum([[0, 1], [0, 5]], axis=0)\n",
      "    array([0, 6])\n",
      "    >>> np.sum([[0, 1], [0, 5]], axis=1)\n",
      "    array([1, 5])\n",
      "    \n",
      "    If the accumulator is too small, overflow occurs:\n",
      "    \n",
      "    >>> np.ones(128, dtype=np.int8).sum(dtype=np.int8)\n",
      "    -128\n",
      "    \n",
      "    You can also start the sum with a value other than zero:\n",
      "    \n",
      "    >>> np.sum([10], initial=5)\n",
      "    15\n",
      "\n",
      "None\n"
     ]
    }
   ],
   "source": [
    "import numpy\n",
    "print(help(numpy.sum))"
   ]
  },
  {
   "cell_type": "code",
   "execution_count": 10,
   "metadata": {},
   "outputs": [
    {
     "name": "stdout",
     "output_type": "stream",
     "text": [
      "[ 0  1  2  3  4  5  6  7  8  9 10 11 12 13 14]\n",
      "[[ 0  1  2  3  4]\n",
      " [ 5  6  7  8  9]\n",
      " [10 11 12 13 14]]\n",
      "2\n"
     ]
    }
   ],
   "source": [
    "import numpy  as np\n",
    "print(np.arange(15))\n",
    "a = np.arange(15).reshape(3,5)\n",
    "print(a)\n",
    "print(a.ndim)"
   ]
  },
  {
   "cell_type": "code",
   "execution_count": 15,
   "metadata": {},
   "outputs": [
    {
     "data": {
      "text/plain": [
       "array([[[ 0,  1,  2],\n",
       "        [ 3,  4,  5]],\n",
       "\n",
       "       [[ 6,  7,  8],\n",
       "        [ 9, 10, 11]]])"
      ]
     },
     "execution_count": 15,
     "metadata": {},
     "output_type": "execute_result"
    }
   ],
   "source": [
    "import numpy  as np\n",
    "np.arange(12).reshape(2,2,3)"
   ]
  },
  {
   "cell_type": "code",
   "execution_count": 35,
   "metadata": {},
   "outputs": [
    {
     "name": "stdout",
     "output_type": "stream",
     "text": [
      "[[20 30 40 50]\n",
      " [20 30 40 50]]\n",
      "[[0 1 2 3]\n",
      " [4 5 6 7]]\n",
      "[[20 29 38 47]\n",
      " [16 25 34 43]]\n",
      "[[  0  30  80 150]\n",
      " [ 80 150 240 350]]\n",
      "[[         1         30       1600     125000]\n",
      " [    160000   24300000 -198967296 -434047872]]\n",
      "[[19 29 39 49]\n",
      " [19 29 39 49]]\n",
      "[[ 0  1  4  9]\n",
      " [16 25 36 49]]\n",
      "[[520 660]\n",
      " [520 660]]\n"
     ]
    }
   ],
   "source": [
    "import numpy  as np\n",
    "np.random.rand(2,3)\n",
    "from numpy  import pi\n",
    "np.linspace( 0, 2*pi, 100)\n",
    "\n",
    "\n",
    "a = np.array([[20,30,40,50],[20,30,40,50]])\n",
    "b = np.arange(8).reshape(2,4)\n",
    "c = np.arange(8).reshape(4,2)\n",
    "print(a)\n",
    "print(b)\n",
    "print(a-b)\n",
    "print(a*b)\n",
    "print(a**b)\n",
    "print(a-1)\n",
    "print(b**2)\n",
    "print(a.dot(c))"
   ]
  },
  {
   "cell_type": "code",
   "execution_count": 37,
   "metadata": {},
   "outputs": [
    {
     "name": "stdout",
     "output_type": "stream",
     "text": [
      "[0 1 2]\n",
      "[1.         2.71828183 7.3890561 ]\n",
      "[0.         1.         1.41421356]\n",
      "[[ 0  1  2  3  4]\n",
      " [ 5  6  7  8  9]\n",
      " [10 11 12 13 14]]\n"
     ]
    }
   ],
   "source": [
    "import numpy as np\n",
    "d = np.arange(3)\n",
    "print(d)\n",
    "print(np.exp(d))\n",
    "print(np.sqrt(d))\n",
    "a = np.arange(15).reshape(3,5)\n",
    "print(a)"
   ]
  },
  {
   "cell_type": "code",
   "execution_count": 44,
   "metadata": {},
   "outputs": [
    {
     "name": "stdout",
     "output_type": "stream",
     "text": [
      "[[4. 3.]\n",
      " [7. 7.]]\n",
      "[[9. 2.]\n",
      " [5. 7.]]\n",
      "[[3. 8. 9. 7. 7. 5. 0. 0. 8. 1. 1. 1.]\n",
      " [0. 9. 9. 4. 4. 1. 2. 5. 6. 5. 2. 7.]]\n",
      "[[3. 0.]\n",
      " [8. 9.]\n",
      " [9. 9.]\n",
      " [7. 4.]\n",
      " [7. 4.]\n",
      " [5. 1.]\n",
      " [0. 2.]\n",
      " [0. 5.]\n",
      " [8. 6.]\n",
      " [1. 5.]\n",
      " [1. 2.]\n",
      " [1. 7.]]\n",
      "[array([[3., 8., 9., 7.],\n",
      "       [0., 9., 9., 4.]]), array([[7., 5., 0., 0.],\n",
      "       [4., 1., 2., 5.]]), array([[8., 1., 1., 1.],\n",
      "       [6., 5., 2., 7.]])]\n",
      "[array([[3., 0.],\n",
      "       [8., 9.],\n",
      "       [9., 9.],\n",
      "       [7., 4.]]), array([[7., 4.],\n",
      "       [5., 1.],\n",
      "       [0., 2.],\n",
      "       [0., 5.]]), array([[8., 6.],\n",
      "       [1., 5.],\n",
      "       [1., 2.],\n",
      "       [1., 7.]])]\n"
     ]
    }
   ],
   "source": [
    "import numpy as np\n",
    "a = np.floor(10 * np.random.rand(2,2))\n",
    "b = np.floor(10 * np.random.rand(2,2))\n",
    "print(a)\n",
    "print(b)\n",
    "A = np.floor(10 * np.random.rand(2,12))\n",
    "B= A.T\n",
    "print(A)\n",
    "print(B)\n",
    "print(np.hsplit(A,3))\n",
    "print(np.vsplit(B,3))"
   ]
  },
  {
   "cell_type": "code",
   "execution_count": 51,
   "metadata": {},
   "outputs": [
    {
     "name": "stdout",
     "output_type": "stream",
     "text": [
      "[[ 0.          0.84147098  0.90929743  0.14112001]\n",
      " [-0.7568025  -0.95892427 -0.2794155   0.6569866 ]\n",
      " [ 0.98935825  0.41211849 -0.54402111 -0.99999021]\n",
      " [-0.53657292  0.42016704  0.99060736  0.65028784]\n",
      " [-0.28790332 -0.96139749 -0.75098725  0.14987721]]\n",
      "[2 0 3 1]\n",
      "[2 3 0 2 3]\n",
      "[0.98935825 0.84147098 0.99060736 0.6569866 ]\n",
      "[0.90929743 0.6569866  0.98935825 0.99060736 0.14987721]\n"
     ]
    }
   ],
   "source": [
    "import numpy as np\n",
    "data = np.sin(np.arange(20)).reshape(5,4)\n",
    "index = data.argmax(axis = 0)\n",
    "index2 = data.argmax(axis = 1)\n",
    "print(data)\n",
    "print(index)\n",
    "print(index2)\n",
    "data_max = data[index, np.arange(data.shape[1])]\n",
    "print(data_max)\n",
    "data_max2 = data[np.arange(data.shape[0]), index2]\n",
    "print(data_max2)"
   ]
  },
  {
   "cell_type": "code",
   "execution_count": 15,
   "metadata": {},
   "outputs": [
    {
     "name": "stdout",
     "output_type": "stream",
     "text": [
      "[[4 3 5]\n",
      " [1 2 1]]\n",
      "[[1 2 1]\n",
      " [4 3 5]]\n",
      "[[4 3 5]\n",
      " [1 2 1]]\n",
      "[0 1 2 3 4]\n",
      "[1 2 3 4 5]\n"
     ]
    }
   ],
   "source": [
    "import numpy as np\n",
    "a = np.array([[4,3,5],[1,2,1]])\n",
    "print(a)\n",
    "b = np.sort(a, axis = 0)\n",
    "print(b)\n",
    "#a.sort(axis =1)\n",
    "print(a)\n",
    "\n",
    "a= np.array([1,2,3,4,5])\n",
    "j = np.argsort(a)\n",
    "print(j)\n",
    "#print(a[j])\n",
    "print(a[j])"
   ]
  },
  {
   "cell_type": "code",
   "execution_count": null,
   "metadata": {},
   "outputs": [],
   "source": []
  },
  {
   "cell_type": "code",
   "execution_count": null,
   "metadata": {},
   "outputs": [],
   "source": []
  },
  {
   "cell_type": "code",
   "execution_count": null,
   "metadata": {},
   "outputs": [],
   "source": []
  },
  {
   "cell_type": "code",
   "execution_count": null,
   "metadata": {},
   "outputs": [],
   "source": []
  }
 ],
 "metadata": {
  "kernelspec": {
   "display_name": "Python 3",
   "language": "python",
   "name": "python3"
  },
  "language_info": {
   "codemirror_mode": {
    "name": "ipython",
    "version": 3
   },
   "file_extension": ".py",
   "mimetype": "text/x-python",
   "name": "python",
   "nbconvert_exporter": "python",
   "pygments_lexer": "ipython3",
   "version": "3.7.0"
  }
 },
 "nbformat": 4,
 "nbformat_minor": 2
}
